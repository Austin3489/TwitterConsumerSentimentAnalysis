{
 "cells": [
  {
   "cell_type": "markdown",
   "id": "70ea7893",
   "metadata": {},
   "source": [
    "# __Python Twitter Sentiment Analysis for consumer marketing__\n",
    "This project attempts to allow the user to determine what product they want a gerneral twitter sentiment analysis on, and then take the most popular users of that tweet and analyzes their tweets further to determine their favorite related products."
   ]
  },
  {
   "cell_type": "code",
   "execution_count": 35,
   "id": "08a8245b",
   "metadata": {},
   "outputs": [
    {
     "name": "stdout",
     "output_type": "stream",
     "text": [
      "Requirement already satisfied: tweepy in c:\\users\\austin\\anaconda3\\lib\\site-packages (4.8.0)\n",
      "Requirement already satisfied: oauthlib<4,>=3.2.0 in c:\\users\\austin\\anaconda3\\lib\\site-packages (from tweepy) (3.2.0)\n",
      "Requirement already satisfied: requests<3,>=2.27.0 in c:\\users\\austin\\anaconda3\\lib\\site-packages (from tweepy) (2.27.1)\n",
      "Requirement already satisfied: requests-oauthlib<2,>=1.2.0 in c:\\users\\austin\\anaconda3\\lib\\site-packages (from tweepy) (1.3.1)\n",
      "Requirement already satisfied: charset-normalizer~=2.0.0 in c:\\users\\austin\\anaconda3\\lib\\site-packages (from requests<3,>=2.27.0->tweepy) (2.0.12)\n",
      "Requirement already satisfied: urllib3<1.27,>=1.21.1 in c:\\users\\austin\\anaconda3\\lib\\site-packages (from requests<3,>=2.27.0->tweepy) (1.26.4)\n",
      "Requirement already satisfied: idna<4,>=2.5 in c:\\users\\austin\\anaconda3\\lib\\site-packages (from requests<3,>=2.27.0->tweepy) (2.10)\n",
      "Requirement already satisfied: certifi>=2017.4.17 in c:\\users\\austin\\anaconda3\\lib\\site-packages (from requests<3,>=2.27.0->tweepy) (2020.12.5)\n",
      "Requirement already satisfied: pandas in c:\\users\\austin\\anaconda3\\lib\\site-packages (1.2.4)\n",
      "Requirement already satisfied: numpy>=1.16.5 in c:\\users\\austin\\anaconda3\\lib\\site-packages (from pandas) (1.20.1)\n",
      "Requirement already satisfied: python-dateutil>=2.7.3 in c:\\users\\austin\\anaconda3\\lib\\site-packages (from pandas) (2.8.1)\n",
      "Requirement already satisfied: pytz>=2017.3 in c:\\users\\austin\\anaconda3\\lib\\site-packages (from pandas) (2021.1)\n",
      "Requirement already satisfied: six>=1.5 in c:\\users\\austin\\anaconda3\\lib\\site-packages (from python-dateutil>=2.7.3->pandas) (1.15.0)\n"
     ]
    }
   ],
   "source": [
    "!pip install tweepy\n",
    "!pip install pandas"
   ]
  },
  {
   "cell_type": "code",
   "execution_count": 86,
   "id": "3a2aa6c7",
   "metadata": {},
   "outputs": [],
   "source": [
    "import tweepy \n",
    "import pandas as pd\n",
    "from tweepy import Cursor\n",
    "#import textblob #This is the library that utilizes NLP methods with regex built in\n",
    "#https://textblob.readthedocs.io/en/dev/"
   ]
  },
  {
   "cell_type": "markdown",
   "id": "81a835e5",
   "metadata": {},
   "source": [
    "__Initialize authentication for the project__"
   ]
  },
  {
   "cell_type": "code",
   "execution_count": null,
   "id": "dfe843ef",
   "metadata": {},
   "outputs": [],
   "source": [
    "class TwitterAnalysis: \n",
    "    #initialize authentication\n",
    "    def __init__(self):\n",
    "        consumer_key = 'dtJE96y6nYizN8puQASbj8qu6'\n",
    "        consumer_secret = 'E0Nh7wCnrvqeXzl0aYHPXE9ZItU9inMCPzsUugplXWFUzub89H'\n",
    "        access_token = '1513173502928506882-hssbphl2VShRQuTL2iwqwPJnTZPviP'\n",
    "        access_token_secret = '66dcJVCniolrMuuc0M71SIGAFO0jHIPtfp46dWO8fpXCk'\n",
    "        self.auth = tweepy.OAuth1UserHandler(\n",
    "        consumer_key, consumer_secret, access_token, access_token_secret\n",
    "        )\n",
    "        self.api = tweepy.API(self.auth)"
   ]
  },
  {
   "cell_type": "code",
   "execution_count": 128,
   "id": "4c7c1ecc",
   "metadata": {},
   "outputs": [],
   "source": [
    "    #Returns the tweets related to a given keyword, with count representing how many tweets\n",
    "    def tweetsInfo(self, q, count = 5):\n",
    "        textDict = {}\n",
    "        for tweet in self.api.search_tweets(q = q , count = count, result_type = 'popular'):\n",
    "            textDict[tweet.author.name] = tweet.text\n",
    "            #print(tweet.text)\n",
    "            #print(tweet.author.name)\n",
    "            user = self.api.get_user(user_id = tweet.author.id)\n",
    "          \n",
    "        return textDict\n",
    "    #returns users past [tweetCount] tweets\n",
    "    def userTweets(self, name, tweetCount = 25):\n",
    "        i = 0\n",
    "        tweets = []\n",
    "        for status in Cursor(self.api.user_timeline, screen_name = name).items():\n",
    "            i += 1\n",
    "            print(status.text)\n",
    "            tweets.append(status.text)\n",
    "            if(i == tweetCount):\n",
    "                break\n",
    "        return tweets\n",
    "    \n",
    "        \n",
    "    "
   ]
  },
  {
   "cell_type": "code",
   "execution_count": 129,
   "id": "cf26ca01",
   "metadata": {},
   "outputs": [
    {
     "name": "stdout",
     "output_type": "stream",
     "text": [
      "Perched atop the dramatic cliffs of Southern California overlooking picturesque Catalina Island, @TrumpGolfLA is a… https://t.co/wUw62QxUS8\n",
      "Indulge in outstanding cuisine enhanced by stunning views of Central Park at @TrumpNewYork’s signature restaurant,… https://t.co/58QxPwnsx7\n",
      "RT @TrumpFerryPoint: Today we celebrate a very well-deserved victory. Our incredible team is so honored to continue serving the great peopl…\n",
      "RT @EricTrump: Breaking: Total Victory at @TrumpFerryPoint! @BilldeBlasio is a disgrace to New York and his challenge to our contract was n…\n",
      "The ultimate destination for an elevated experience, @TrumpLasVegas is an oasis of luxury surrounded by the most sp… https://t.co/W2cZlJWtbC\n",
      "RT @TrumpGolf: The bond within our Trump Golf family is unbeatable. We’re looking back at last weekend’s annual Trump Challenge and reminis…\n",
      "The @TrumpStore Spring Sale is here! Use code SPRING for 20% off sitewide today through Thursday, 3/31.… https://t.co/FtkFrnnaSa\n",
      "To recognize @TrumpGolfDubai is to recognize excellence. Congratulations on receiving the 59 Club Service Excellenc… https://t.co/2pbiI6edbJ\n",
      "We never settle when it comes to pampering our four-legged friends. Show love for your pup this #NationalPuppyDay w… https://t.co/6UWTTpMI5b\n",
      "RT @TrumpGolf: A true testament of greatness. Discover the essence of @TrumpGolfLA: an unforgettable, exhilarating golf experience set atop…\n",
      "Trump Park Avenue, where the rich heritage of New York’s pre-war architecture meets every comfort of a 21st century… https://t.co/G7Rd7aOlkQ\n",
      "RT @TrumpGolf: In the spirit of #StPatricksDay , we’re unveiling the story behind The Shebeen at @TrumpDoonbeg, an enchanting stone cottage…\n",
      "From festive parades to dyeing the river green, we’re always thrilled with our front-row seat to Chicago’s longstan… https://t.co/XORl5wDzyw\n",
      "Embrace the gold standard year-round. Shop @TrumpStore’s St. Patrick's Day Collection with 17% savings now through… https://t.co/tkzy56by62\n",
      "Spring into travel this year with @trumphotels' Daylight Savings offer! Today only, enjoy 30% off all room types at… https://t.co/MDt2t73eIs\n",
      "RT @TrumpFerryPoint: Mark your calendars—We reopen for the season next Friday, March 18th! The tee sheet will become available to book tomo…\n",
      "Our last weeks of winter enhanced by intimate spaces and elegant fireplaces throughout @AlbemarleEstate at… https://t.co/WkLlnvAlZb\n",
      "Very proud! “@TrumpChicago Penthouse Sells for $20M, Making it the Second Priciest Home Sale in Chicago History” -… https://t.co/dLPkNVDgAX\n",
      "Discover rich history in every one of our iconic New York City properties. https://t.co/XayvisW6XN\n",
      "RT @TrumpTower: Join us tomorrow at 45 Wine &amp; Whiskey Bar from 6-9 PM for live jazz, Mardi Gras-themed drink specials, and delicious bar bi…\n",
      "From @TrumpWaikiki to @TrumpTurnberry and everywhere in between, we applaud our incredible bartenders who create un… https://t.co/EMMlxbLuCZ\n",
      "Today we salute all presidents of our great nation, and we pay special tribute to our 45th president. At the new 45… https://t.co/XlKg2Bd4hH\n",
      "Love and happiness exude from these picturesque scenes at @TrumpBedminster on a rainy wedding day. Wishing a happy… https://t.co/oTEjkcBgHx\n",
      "RT @TrumpGolf: The incredible @TrumpGolfDubai does it again! Congratulations on being ranked the No. 1 golf course in Dubai by Golf World's…\n",
      "Discover legendary Irish hospitality paired with extraordinary golf, luxurious accommodations, and exceptional amen… https://t.co/L3zd5uaebx\n"
     ]
    }
   ],
   "source": [
    "tweetSearch = TwitterAnalysis()\n",
    "usersWithTweets = tweetSearch.tweetsInfo('Trump', count = 5)\n",
    "i = 0\n",
    "for keys in usersWithTweets.keys():\n",
    "    tweetSearch.userTweets('Trump', tweetCount = 25)\n",
    "    i += 1\n",
    "    if(i == 1):\n",
    "        break"
   ]
  },
  {
   "cell_type": "code",
   "execution_count": null,
   "id": "5a9de7a0",
   "metadata": {},
   "outputs": [],
   "source": []
  }
 ],
 "metadata": {
  "kernelspec": {
   "display_name": "Python 3",
   "language": "python",
   "name": "python3"
  },
  "language_info": {
   "codemirror_mode": {
    "name": "ipython",
    "version": 3
   },
   "file_extension": ".py",
   "mimetype": "text/x-python",
   "name": "python",
   "nbconvert_exporter": "python",
   "pygments_lexer": "ipython3",
   "version": "3.8.8"
  }
 },
 "nbformat": 4,
 "nbformat_minor": 5
}
